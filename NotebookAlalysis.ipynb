{
 "cells": [
  {
   "cell_type": "markdown",
   "metadata": {},
   "source": [
    "# Start Alalysis of Dataset"
   ]
  },
  {
   "cell_type": "markdown",
   "metadata": {},
   "source": [
    "###### Notebook for analysis of mega sena dataset"
   ]
  },
  {
   "cell_type": "markdown",
   "metadata": {},
   "source": [
    "* Initialiinitialization and reading of files and libraries"
   ]
  },
  {
   "cell_type": "code",
   "execution_count": 12,
   "metadata": {},
   "outputs": [],
   "source": [
    "#import libraries\n",
    "import pandas as pd\n",
    "import numpy as np\n",
    "\n",
    "#reading file\n",
    "data = pd.read_excel('basedados.xlsx')"
   ]
  },
  {
   "cell_type": "code",
   "execution_count": 16,
   "metadata": {
    "collapsed": true
   },
   "outputs": [
    {
     "name": "stdout",
     "output_type": "stream",
     "text": [
      "<class 'pandas.core.frame.DataFrame'>\n",
      "Int64Index: 2025 entries, 0 to 2024\n",
      "Data columns (total 18 columns):\n",
      "Concurso             2025 non-null int64\n",
      "Data Sorteio         2025 non-null datetime64[ns]\n",
      "Dezena1              2025 non-null int64\n",
      "Dezena2              2025 non-null int64\n",
      "Dezena3              2025 non-null int64\n",
      "Dezena4              2025 non-null int64\n",
      "Dezena5              2025 non-null int64\n",
      "Dezena6              2025 non-null int64\n",
      "Arrecadacao_Total    2025 non-null float64\n",
      "Ganhadores_Sena      2025 non-null int64\n",
      "Rateio_Sena          2025 non-null float64\n",
      "Ganhadores_Quina     2025 non-null int64\n",
      "Rateio_Quina         2025 non-null float64\n",
      "Ganhadores_Quadra    2025 non-null int64\n",
      "Rateio_Quadra        2025 non-null float64\n",
      "Acumulado            2025 non-null object\n",
      "Valor_Acumulado      2025 non-null float64\n",
      "Estimativa_Prêmio    2025 non-null int64\n",
      "dtypes: datetime64[ns](1), float64(5), int64(11), object(1)\n",
      "memory usage: 300.6+ KB\n"
     ]
    }
   ],
   "source": [
    "data.info()"
   ]
  }
 ],
 "metadata": {
  "kernelspec": {
   "display_name": "Python 3",
   "language": "python",
   "name": "python3"
  },
  "language_info": {
   "codemirror_mode": {
    "name": "ipython",
    "version": 3
   },
   "file_extension": ".py",
   "mimetype": "text/x-python",
   "name": "python",
   "nbconvert_exporter": "python",
   "pygments_lexer": "ipython3",
   "version": "3.6.3"
  }
 },
 "nbformat": 4,
 "nbformat_minor": 2
}
